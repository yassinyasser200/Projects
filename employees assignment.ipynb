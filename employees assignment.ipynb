{
 "cells": [
  {
   "cell_type": "code",
   "execution_count": 2,
   "id": "30d7c005-76c3-4b39-9ac9-b4b6d8e9ba61",
   "metadata": {},
   "outputs": [],
   "source": [
    "import pandas as pd"
   ]
  },
  {
   "cell_type": "code",
   "execution_count": 3,
   "id": "2ddad7ff-0c35-46e3-a291-1efdd977408a",
   "metadata": {},
   "outputs": [],
   "source": [
    "emp = pd.read_csv(\"Employees.csv\")"
   ]
  },
  {
   "cell_type": "markdown",
   "id": "b750e91b-3c1e-45b7-a950-9ac4402e8353",
   "metadata": {},
   "source": [
    "emp"
   ]
  },
  {
   "cell_type": "code",
   "execution_count": 4,
   "id": "6dc22601-2c1b-46bb-9ecf-54b5250f34f0",
   "metadata": {},
   "outputs": [
    {
     "data": {
      "text/html": [
       "<div>\n",
       "<style scoped>\n",
       "    .dataframe tbody tr th:only-of-type {\n",
       "        vertical-align: middle;\n",
       "    }\n",
       "\n",
       "    .dataframe tbody tr th {\n",
       "        vertical-align: top;\n",
       "    }\n",
       "\n",
       "    .dataframe thead th {\n",
       "        text-align: right;\n",
       "    }\n",
       "</style>\n",
       "<table border=\"1\" class=\"dataframe\">\n",
       "  <thead>\n",
       "    <tr style=\"text-align: right;\">\n",
       "      <th></th>\n",
       "      <th>No</th>\n",
       "      <th>First Name</th>\n",
       "      <th>Last Name</th>\n",
       "      <th>Gender</th>\n",
       "      <th>Start Date</th>\n",
       "      <th>Years</th>\n",
       "      <th>Department</th>\n",
       "      <th>Country</th>\n",
       "      <th>Center</th>\n",
       "      <th>Monthly Salary</th>\n",
       "      <th>Annual Salary</th>\n",
       "      <th>Job Rate</th>\n",
       "      <th>Sick Leaves</th>\n",
       "      <th>Unpaid Leaves</th>\n",
       "      <th>Overtime Hours</th>\n",
       "      <th>Unnamed: 15</th>\n",
       "      <th>Unnamed: 16</th>\n",
       "      <th>Unnamed: 17</th>\n",
       "      <th>Unnamed: 18</th>\n",
       "    </tr>\n",
       "  </thead>\n",
       "  <tbody>\n",
       "    <tr>\n",
       "      <th>0</th>\n",
       "      <td>1</td>\n",
       "      <td>Ghadir</td>\n",
       "      <td>Hmshw</td>\n",
       "      <td>Male</td>\n",
       "      <td>43194.0</td>\n",
       "      <td>7</td>\n",
       "      <td>Quality Control</td>\n",
       "      <td>Egypt</td>\n",
       "      <td>West</td>\n",
       "      <td>1560</td>\n",
       "      <td>18720</td>\n",
       "      <td>3.0</td>\n",
       "      <td>1</td>\n",
       "      <td>0</td>\n",
       "      <td>183</td>\n",
       "      <td>NaN</td>\n",
       "      <td>NaN</td>\n",
       "      <td>NaN</td>\n",
       "      <td>NaN</td>\n",
       "    </tr>\n",
       "    <tr>\n",
       "      <th>1</th>\n",
       "      <td>2</td>\n",
       "      <td>Omar</td>\n",
       "      <td>Hishan</td>\n",
       "      <td>Male</td>\n",
       "      <td>43972.0</td>\n",
       "      <td>5</td>\n",
       "      <td>Quality Control</td>\n",
       "      <td>Saudi Arabia</td>\n",
       "      <td>West</td>\n",
       "      <td>3247</td>\n",
       "      <td>38964</td>\n",
       "      <td>1.0</td>\n",
       "      <td>0</td>\n",
       "      <td>5</td>\n",
       "      <td>198</td>\n",
       "      <td>NaN</td>\n",
       "      <td>NaN</td>\n",
       "      <td>NaN</td>\n",
       "      <td>NaN</td>\n",
       "    </tr>\n",
       "    <tr>\n",
       "      <th>2</th>\n",
       "      <td>3</td>\n",
       "      <td>Ailya</td>\n",
       "      <td>Sharaf</td>\n",
       "      <td>Female</td>\n",
       "      <td>43006.0</td>\n",
       "      <td>7</td>\n",
       "      <td>Major Mfg Projects</td>\n",
       "      <td>Saudi Arabia</td>\n",
       "      <td>West</td>\n",
       "      <td>2506</td>\n",
       "      <td>30072</td>\n",
       "      <td>2.0</td>\n",
       "      <td>0</td>\n",
       "      <td>3</td>\n",
       "      <td>192</td>\n",
       "      <td>NaN</td>\n",
       "      <td>NaN</td>\n",
       "      <td>NaN</td>\n",
       "      <td>NaN</td>\n",
       "    </tr>\n",
       "    <tr>\n",
       "      <th>3</th>\n",
       "      <td>4</td>\n",
       "      <td>Lwiy</td>\n",
       "      <td>Qbany</td>\n",
       "      <td>Male</td>\n",
       "      <td>43326.0</td>\n",
       "      <td>6</td>\n",
       "      <td>Manufacturing</td>\n",
       "      <td>United Arab Emirates</td>\n",
       "      <td>Main</td>\n",
       "      <td>1828</td>\n",
       "      <td>21936</td>\n",
       "      <td>3.0</td>\n",
       "      <td>0</td>\n",
       "      <td>0</td>\n",
       "      <td>7</td>\n",
       "      <td>NaN</td>\n",
       "      <td>NaN</td>\n",
       "      <td>NaN</td>\n",
       "      <td>NaN</td>\n",
       "    </tr>\n",
       "    <tr>\n",
       "      <th>4</th>\n",
       "      <td>5</td>\n",
       "      <td>Ahmad</td>\n",
       "      <td>Bikri</td>\n",
       "      <td>Male</td>\n",
       "      <td>43901.0</td>\n",
       "      <td>5</td>\n",
       "      <td>Manufacturing</td>\n",
       "      <td>Egypt</td>\n",
       "      <td>Main</td>\n",
       "      <td>970</td>\n",
       "      <td>11640</td>\n",
       "      <td>5.0</td>\n",
       "      <td>0</td>\n",
       "      <td>5</td>\n",
       "      <td>121</td>\n",
       "      <td>NaN</td>\n",
       "      <td>NaN</td>\n",
       "      <td>NaN</td>\n",
       "      <td>NaN</td>\n",
       "    </tr>\n",
       "    <tr>\n",
       "      <th>...</th>\n",
       "      <td>...</td>\n",
       "      <td>...</td>\n",
       "      <td>...</td>\n",
       "      <td>...</td>\n",
       "      <td>...</td>\n",
       "      <td>...</td>\n",
       "      <td>...</td>\n",
       "      <td>...</td>\n",
       "      <td>...</td>\n",
       "      <td>...</td>\n",
       "      <td>...</td>\n",
       "      <td>...</td>\n",
       "      <td>...</td>\n",
       "      <td>...</td>\n",
       "      <td>...</td>\n",
       "      <td>...</td>\n",
       "      <td>...</td>\n",
       "      <td>...</td>\n",
       "      <td>...</td>\n",
       "    </tr>\n",
       "    <tr>\n",
       "      <th>1373</th>\n",
       "      <td>685</td>\n",
       "      <td>Sari</td>\n",
       "      <td>Hanna</td>\n",
       "      <td>Male</td>\n",
       "      <td>43977.0</td>\n",
       "      <td>0</td>\n",
       "      <td>Marketing</td>\n",
       "      <td>Lebanon</td>\n",
       "      <td>South</td>\n",
       "      <td>1452</td>\n",
       "      <td>17424</td>\n",
       "      <td>2.0</td>\n",
       "      <td>0</td>\n",
       "      <td>3</td>\n",
       "      <td>1</td>\n",
       "      <td>NaN</td>\n",
       "      <td>NaN</td>\n",
       "      <td>NaN</td>\n",
       "      <td>NaN</td>\n",
       "    </tr>\n",
       "    <tr>\n",
       "      <th>1374</th>\n",
       "      <td>686</td>\n",
       "      <td>Eubayda</td>\n",
       "      <td>Kayd</td>\n",
       "      <td>Male</td>\n",
       "      <td>43985.0</td>\n",
       "      <td>0</td>\n",
       "      <td>Facilities/Engineering</td>\n",
       "      <td>Egypt</td>\n",
       "      <td>North</td>\n",
       "      <td>3237</td>\n",
       "      <td>38844</td>\n",
       "      <td>3.0</td>\n",
       "      <td>1</td>\n",
       "      <td>0</td>\n",
       "      <td>4</td>\n",
       "      <td>NaN</td>\n",
       "      <td>NaN</td>\n",
       "      <td>NaN</td>\n",
       "      <td>NaN</td>\n",
       "    </tr>\n",
       "    <tr>\n",
       "      <th>1375</th>\n",
       "      <td>687</td>\n",
       "      <td>Khalil</td>\n",
       "      <td>Alkalu</td>\n",
       "      <td>Male</td>\n",
       "      <td>42927.0</td>\n",
       "      <td>3</td>\n",
       "      <td>Facilities/Engineering</td>\n",
       "      <td>Egypt</td>\n",
       "      <td>North</td>\n",
       "      <td>2819</td>\n",
       "      <td>33828</td>\n",
       "      <td>5.0</td>\n",
       "      <td>0</td>\n",
       "      <td>0</td>\n",
       "      <td>0</td>\n",
       "      <td>NaN</td>\n",
       "      <td>NaN</td>\n",
       "      <td>NaN</td>\n",
       "      <td>NaN</td>\n",
       "    </tr>\n",
       "    <tr>\n",
       "      <th>1376</th>\n",
       "      <td>688</td>\n",
       "      <td>Muhamad</td>\n",
       "      <td>Shrbjy</td>\n",
       "      <td>Male</td>\n",
       "      <td>43250.0</td>\n",
       "      <td>2</td>\n",
       "      <td>Creative</td>\n",
       "      <td>Egypt</td>\n",
       "      <td>North</td>\n",
       "      <td>2069</td>\n",
       "      <td>24828</td>\n",
       "      <td>3.0</td>\n",
       "      <td>0</td>\n",
       "      <td>0</td>\n",
       "      <td>10</td>\n",
       "      <td>NaN</td>\n",
       "      <td>NaN</td>\n",
       "      <td>NaN</td>\n",
       "      <td>NaN</td>\n",
       "    </tr>\n",
       "    <tr>\n",
       "      <th>1377</th>\n",
       "      <td>689</td>\n",
       "      <td>Abd Albasit</td>\n",
       "      <td>AlAhmar</td>\n",
       "      <td>Male</td>\n",
       "      <td>44048.0</td>\n",
       "      <td>0</td>\n",
       "      <td>IT</td>\n",
       "      <td>United Arab Emirates</td>\n",
       "      <td>North</td>\n",
       "      <td>2606</td>\n",
       "      <td>31272</td>\n",
       "      <td>5.0</td>\n",
       "      <td>0</td>\n",
       "      <td>0</td>\n",
       "      <td>0</td>\n",
       "      <td>NaN</td>\n",
       "      <td>NaN</td>\n",
       "      <td>NaN</td>\n",
       "      <td>NaN</td>\n",
       "    </tr>\n",
       "  </tbody>\n",
       "</table>\n",
       "<p>1378 rows × 19 columns</p>\n",
       "</div>"
      ],
      "text/plain": [
       "       No   First Name Last Name  Gender  Start Date  Years  \\\n",
       "0       1       Ghadir     Hmshw    Male     43194.0      7   \n",
       "1       2         Omar    Hishan    Male     43972.0      5   \n",
       "2       3        Ailya    Sharaf  Female     43006.0      7   \n",
       "3       4         Lwiy     Qbany    Male     43326.0      6   \n",
       "4       5        Ahmad     Bikri    Male     43901.0      5   \n",
       "...   ...          ...       ...     ...         ...    ...   \n",
       "1373  685         Sari     Hanna    Male     43977.0      0   \n",
       "1374  686      Eubayda      Kayd    Male     43985.0      0   \n",
       "1375  687       Khalil    Alkalu    Male     42927.0      3   \n",
       "1376  688      Muhamad    Shrbjy    Male     43250.0      2   \n",
       "1377  689  Abd Albasit   AlAhmar    Male     44048.0      0   \n",
       "\n",
       "                  Department               Country Center  Monthly Salary  \\\n",
       "0            Quality Control                 Egypt   West            1560   \n",
       "1            Quality Control          Saudi Arabia   West            3247   \n",
       "2         Major Mfg Projects          Saudi Arabia   West            2506   \n",
       "3              Manufacturing  United Arab Emirates   Main            1828   \n",
       "4              Manufacturing                 Egypt   Main             970   \n",
       "...                      ...                   ...    ...             ...   \n",
       "1373               Marketing               Lebanon  South            1452   \n",
       "1374  Facilities/Engineering                 Egypt  North            3237   \n",
       "1375  Facilities/Engineering                 Egypt  North            2819   \n",
       "1376                Creative                 Egypt  North            2069   \n",
       "1377                      IT  United Arab Emirates  North            2606   \n",
       "\n",
       "      Annual Salary  Job Rate  Sick Leaves  Unpaid Leaves  Overtime Hours  \\\n",
       "0             18720       3.0            1              0             183   \n",
       "1             38964       1.0            0              5             198   \n",
       "2             30072       2.0            0              3             192   \n",
       "3             21936       3.0            0              0               7   \n",
       "4             11640       5.0            0              5             121   \n",
       "...             ...       ...          ...            ...             ...   \n",
       "1373          17424       2.0            0              3               1   \n",
       "1374          38844       3.0            1              0               4   \n",
       "1375          33828       5.0            0              0               0   \n",
       "1376          24828       3.0            0              0              10   \n",
       "1377          31272       5.0            0              0               0   \n",
       "\n",
       "      Unnamed: 15  Unnamed: 16  Unnamed: 17  Unnamed: 18  \n",
       "0             NaN          NaN          NaN          NaN  \n",
       "1             NaN          NaN          NaN          NaN  \n",
       "2             NaN          NaN          NaN          NaN  \n",
       "3             NaN          NaN          NaN          NaN  \n",
       "4             NaN          NaN          NaN          NaN  \n",
       "...           ...          ...          ...          ...  \n",
       "1373          NaN          NaN          NaN          NaN  \n",
       "1374          NaN          NaN          NaN          NaN  \n",
       "1375          NaN          NaN          NaN          NaN  \n",
       "1376          NaN          NaN          NaN          NaN  \n",
       "1377          NaN          NaN          NaN          NaN  \n",
       "\n",
       "[1378 rows x 19 columns]"
      ]
     },
     "execution_count": 4,
     "metadata": {},
     "output_type": "execute_result"
    }
   ],
   "source": [
    "emp"
   ]
  },
  {
   "cell_type": "code",
   "execution_count": 5,
   "id": "51f5da8d-98ce-4d07-93a7-7f1cec2db4d7",
   "metadata": {},
   "outputs": [
    {
     "data": {
      "text/html": [
       "<div>\n",
       "<style scoped>\n",
       "    .dataframe tbody tr th:only-of-type {\n",
       "        vertical-align: middle;\n",
       "    }\n",
       "\n",
       "    .dataframe tbody tr th {\n",
       "        vertical-align: top;\n",
       "    }\n",
       "\n",
       "    .dataframe thead th {\n",
       "        text-align: right;\n",
       "    }\n",
       "</style>\n",
       "<table border=\"1\" class=\"dataframe\">\n",
       "  <thead>\n",
       "    <tr style=\"text-align: right;\">\n",
       "      <th></th>\n",
       "      <th>No</th>\n",
       "      <th>First Name</th>\n",
       "      <th>Last Name</th>\n",
       "      <th>Gender</th>\n",
       "      <th>Start Date</th>\n",
       "      <th>Years</th>\n",
       "      <th>Department</th>\n",
       "      <th>Country</th>\n",
       "      <th>Center</th>\n",
       "      <th>Monthly Salary</th>\n",
       "      <th>Annual Salary</th>\n",
       "      <th>Job Rate</th>\n",
       "      <th>Sick Leaves</th>\n",
       "      <th>Unpaid Leaves</th>\n",
       "      <th>Overtime Hours</th>\n",
       "      <th>Unnamed: 15</th>\n",
       "      <th>Unnamed: 16</th>\n",
       "      <th>Unnamed: 17</th>\n",
       "      <th>Unnamed: 18</th>\n",
       "    </tr>\n",
       "  </thead>\n",
       "  <tbody>\n",
       "    <tr>\n",
       "      <th>0</th>\n",
       "      <td>1</td>\n",
       "      <td>Ghadir</td>\n",
       "      <td>Hmshw</td>\n",
       "      <td>Male</td>\n",
       "      <td>43194.0</td>\n",
       "      <td>7</td>\n",
       "      <td>Quality Control</td>\n",
       "      <td>Egypt</td>\n",
       "      <td>West</td>\n",
       "      <td>1560</td>\n",
       "      <td>18720</td>\n",
       "      <td>3.0</td>\n",
       "      <td>1</td>\n",
       "      <td>0</td>\n",
       "      <td>183</td>\n",
       "      <td>NaN</td>\n",
       "      <td>NaN</td>\n",
       "      <td>NaN</td>\n",
       "      <td>NaN</td>\n",
       "    </tr>\n",
       "    <tr>\n",
       "      <th>1</th>\n",
       "      <td>2</td>\n",
       "      <td>Omar</td>\n",
       "      <td>Hishan</td>\n",
       "      <td>Male</td>\n",
       "      <td>43972.0</td>\n",
       "      <td>5</td>\n",
       "      <td>Quality Control</td>\n",
       "      <td>Saudi Arabia</td>\n",
       "      <td>West</td>\n",
       "      <td>3247</td>\n",
       "      <td>38964</td>\n",
       "      <td>1.0</td>\n",
       "      <td>0</td>\n",
       "      <td>5</td>\n",
       "      <td>198</td>\n",
       "      <td>NaN</td>\n",
       "      <td>NaN</td>\n",
       "      <td>NaN</td>\n",
       "      <td>NaN</td>\n",
       "    </tr>\n",
       "    <tr>\n",
       "      <th>2</th>\n",
       "      <td>3</td>\n",
       "      <td>Ailya</td>\n",
       "      <td>Sharaf</td>\n",
       "      <td>Female</td>\n",
       "      <td>43006.0</td>\n",
       "      <td>7</td>\n",
       "      <td>Major Mfg Projects</td>\n",
       "      <td>Saudi Arabia</td>\n",
       "      <td>West</td>\n",
       "      <td>2506</td>\n",
       "      <td>30072</td>\n",
       "      <td>2.0</td>\n",
       "      <td>0</td>\n",
       "      <td>3</td>\n",
       "      <td>192</td>\n",
       "      <td>NaN</td>\n",
       "      <td>NaN</td>\n",
       "      <td>NaN</td>\n",
       "      <td>NaN</td>\n",
       "    </tr>\n",
       "    <tr>\n",
       "      <th>3</th>\n",
       "      <td>4</td>\n",
       "      <td>Lwiy</td>\n",
       "      <td>Qbany</td>\n",
       "      <td>Male</td>\n",
       "      <td>43326.0</td>\n",
       "      <td>6</td>\n",
       "      <td>Manufacturing</td>\n",
       "      <td>United Arab Emirates</td>\n",
       "      <td>Main</td>\n",
       "      <td>1828</td>\n",
       "      <td>21936</td>\n",
       "      <td>3.0</td>\n",
       "      <td>0</td>\n",
       "      <td>0</td>\n",
       "      <td>7</td>\n",
       "      <td>NaN</td>\n",
       "      <td>NaN</td>\n",
       "      <td>NaN</td>\n",
       "      <td>NaN</td>\n",
       "    </tr>\n",
       "    <tr>\n",
       "      <th>4</th>\n",
       "      <td>5</td>\n",
       "      <td>Ahmad</td>\n",
       "      <td>Bikri</td>\n",
       "      <td>Male</td>\n",
       "      <td>43901.0</td>\n",
       "      <td>5</td>\n",
       "      <td>Manufacturing</td>\n",
       "      <td>Egypt</td>\n",
       "      <td>Main</td>\n",
       "      <td>970</td>\n",
       "      <td>11640</td>\n",
       "      <td>5.0</td>\n",
       "      <td>0</td>\n",
       "      <td>5</td>\n",
       "      <td>121</td>\n",
       "      <td>NaN</td>\n",
       "      <td>NaN</td>\n",
       "      <td>NaN</td>\n",
       "      <td>NaN</td>\n",
       "    </tr>\n",
       "  </tbody>\n",
       "</table>\n",
       "</div>"
      ],
      "text/plain": [
       "   No First Name Last Name  Gender  Start Date  Years          Department  \\\n",
       "0   1     Ghadir     Hmshw    Male     43194.0      7     Quality Control   \n",
       "1   2       Omar    Hishan    Male     43972.0      5     Quality Control   \n",
       "2   3      Ailya    Sharaf  Female     43006.0      7  Major Mfg Projects   \n",
       "3   4       Lwiy     Qbany    Male     43326.0      6       Manufacturing   \n",
       "4   5      Ahmad     Bikri    Male     43901.0      5       Manufacturing   \n",
       "\n",
       "                Country Center  Monthly Salary  Annual Salary  Job Rate  \\\n",
       "0                 Egypt   West            1560          18720       3.0   \n",
       "1          Saudi Arabia   West            3247          38964       1.0   \n",
       "2          Saudi Arabia   West            2506          30072       2.0   \n",
       "3  United Arab Emirates   Main            1828          21936       3.0   \n",
       "4                 Egypt   Main             970          11640       5.0   \n",
       "\n",
       "   Sick Leaves  Unpaid Leaves  Overtime Hours  Unnamed: 15  Unnamed: 16  \\\n",
       "0            1              0             183          NaN          NaN   \n",
       "1            0              5             198          NaN          NaN   \n",
       "2            0              3             192          NaN          NaN   \n",
       "3            0              0               7          NaN          NaN   \n",
       "4            0              5             121          NaN          NaN   \n",
       "\n",
       "   Unnamed: 17  Unnamed: 18  \n",
       "0          NaN          NaN  \n",
       "1          NaN          NaN  \n",
       "2          NaN          NaN  \n",
       "3          NaN          NaN  \n",
       "4          NaN          NaN  "
      ]
     },
     "execution_count": 5,
     "metadata": {},
     "output_type": "execute_result"
    }
   ],
   "source": [
    "emp.head()"
   ]
  },
  {
   "cell_type": "code",
   "execution_count": 6,
   "id": "da51d053-ccb5-4dd1-89d5-edf92d259bae",
   "metadata": {},
   "outputs": [
    {
     "data": {
      "text/html": [
       "<div>\n",
       "<style scoped>\n",
       "    .dataframe tbody tr th:only-of-type {\n",
       "        vertical-align: middle;\n",
       "    }\n",
       "\n",
       "    .dataframe tbody tr th {\n",
       "        vertical-align: top;\n",
       "    }\n",
       "\n",
       "    .dataframe thead th {\n",
       "        text-align: right;\n",
       "    }\n",
       "</style>\n",
       "<table border=\"1\" class=\"dataframe\">\n",
       "  <thead>\n",
       "    <tr style=\"text-align: right;\">\n",
       "      <th></th>\n",
       "      <th>No</th>\n",
       "      <th>First Name</th>\n",
       "      <th>Last Name</th>\n",
       "      <th>Gender</th>\n",
       "      <th>Start Date</th>\n",
       "      <th>Years</th>\n",
       "      <th>Department</th>\n",
       "      <th>Country</th>\n",
       "      <th>Center</th>\n",
       "      <th>Monthly Salary</th>\n",
       "      <th>Annual Salary</th>\n",
       "      <th>Job Rate</th>\n",
       "      <th>Sick Leaves</th>\n",
       "      <th>Unpaid Leaves</th>\n",
       "      <th>Overtime Hours</th>\n",
       "      <th>Unnamed: 15</th>\n",
       "      <th>Unnamed: 16</th>\n",
       "      <th>Unnamed: 17</th>\n",
       "      <th>Unnamed: 18</th>\n",
       "    </tr>\n",
       "  </thead>\n",
       "  <tbody>\n",
       "    <tr>\n",
       "      <th>1373</th>\n",
       "      <td>685</td>\n",
       "      <td>Sari</td>\n",
       "      <td>Hanna</td>\n",
       "      <td>Male</td>\n",
       "      <td>43977.0</td>\n",
       "      <td>0</td>\n",
       "      <td>Marketing</td>\n",
       "      <td>Lebanon</td>\n",
       "      <td>South</td>\n",
       "      <td>1452</td>\n",
       "      <td>17424</td>\n",
       "      <td>2.0</td>\n",
       "      <td>0</td>\n",
       "      <td>3</td>\n",
       "      <td>1</td>\n",
       "      <td>NaN</td>\n",
       "      <td>NaN</td>\n",
       "      <td>NaN</td>\n",
       "      <td>NaN</td>\n",
       "    </tr>\n",
       "    <tr>\n",
       "      <th>1374</th>\n",
       "      <td>686</td>\n",
       "      <td>Eubayda</td>\n",
       "      <td>Kayd</td>\n",
       "      <td>Male</td>\n",
       "      <td>43985.0</td>\n",
       "      <td>0</td>\n",
       "      <td>Facilities/Engineering</td>\n",
       "      <td>Egypt</td>\n",
       "      <td>North</td>\n",
       "      <td>3237</td>\n",
       "      <td>38844</td>\n",
       "      <td>3.0</td>\n",
       "      <td>1</td>\n",
       "      <td>0</td>\n",
       "      <td>4</td>\n",
       "      <td>NaN</td>\n",
       "      <td>NaN</td>\n",
       "      <td>NaN</td>\n",
       "      <td>NaN</td>\n",
       "    </tr>\n",
       "    <tr>\n",
       "      <th>1375</th>\n",
       "      <td>687</td>\n",
       "      <td>Khalil</td>\n",
       "      <td>Alkalu</td>\n",
       "      <td>Male</td>\n",
       "      <td>42927.0</td>\n",
       "      <td>3</td>\n",
       "      <td>Facilities/Engineering</td>\n",
       "      <td>Egypt</td>\n",
       "      <td>North</td>\n",
       "      <td>2819</td>\n",
       "      <td>33828</td>\n",
       "      <td>5.0</td>\n",
       "      <td>0</td>\n",
       "      <td>0</td>\n",
       "      <td>0</td>\n",
       "      <td>NaN</td>\n",
       "      <td>NaN</td>\n",
       "      <td>NaN</td>\n",
       "      <td>NaN</td>\n",
       "    </tr>\n",
       "    <tr>\n",
       "      <th>1376</th>\n",
       "      <td>688</td>\n",
       "      <td>Muhamad</td>\n",
       "      <td>Shrbjy</td>\n",
       "      <td>Male</td>\n",
       "      <td>43250.0</td>\n",
       "      <td>2</td>\n",
       "      <td>Creative</td>\n",
       "      <td>Egypt</td>\n",
       "      <td>North</td>\n",
       "      <td>2069</td>\n",
       "      <td>24828</td>\n",
       "      <td>3.0</td>\n",
       "      <td>0</td>\n",
       "      <td>0</td>\n",
       "      <td>10</td>\n",
       "      <td>NaN</td>\n",
       "      <td>NaN</td>\n",
       "      <td>NaN</td>\n",
       "      <td>NaN</td>\n",
       "    </tr>\n",
       "    <tr>\n",
       "      <th>1377</th>\n",
       "      <td>689</td>\n",
       "      <td>Abd Albasit</td>\n",
       "      <td>AlAhmar</td>\n",
       "      <td>Male</td>\n",
       "      <td>44048.0</td>\n",
       "      <td>0</td>\n",
       "      <td>IT</td>\n",
       "      <td>United Arab Emirates</td>\n",
       "      <td>North</td>\n",
       "      <td>2606</td>\n",
       "      <td>31272</td>\n",
       "      <td>5.0</td>\n",
       "      <td>0</td>\n",
       "      <td>0</td>\n",
       "      <td>0</td>\n",
       "      <td>NaN</td>\n",
       "      <td>NaN</td>\n",
       "      <td>NaN</td>\n",
       "      <td>NaN</td>\n",
       "    </tr>\n",
       "  </tbody>\n",
       "</table>\n",
       "</div>"
      ],
      "text/plain": [
       "       No   First Name Last Name Gender  Start Date  Years  \\\n",
       "1373  685         Sari     Hanna   Male     43977.0      0   \n",
       "1374  686      Eubayda      Kayd   Male     43985.0      0   \n",
       "1375  687       Khalil    Alkalu   Male     42927.0      3   \n",
       "1376  688      Muhamad    Shrbjy   Male     43250.0      2   \n",
       "1377  689  Abd Albasit   AlAhmar   Male     44048.0      0   \n",
       "\n",
       "                  Department               Country Center  Monthly Salary  \\\n",
       "1373               Marketing               Lebanon  South            1452   \n",
       "1374  Facilities/Engineering                 Egypt  North            3237   \n",
       "1375  Facilities/Engineering                 Egypt  North            2819   \n",
       "1376                Creative                 Egypt  North            2069   \n",
       "1377                      IT  United Arab Emirates  North            2606   \n",
       "\n",
       "      Annual Salary  Job Rate  Sick Leaves  Unpaid Leaves  Overtime Hours  \\\n",
       "1373          17424       2.0            0              3               1   \n",
       "1374          38844       3.0            1              0               4   \n",
       "1375          33828       5.0            0              0               0   \n",
       "1376          24828       3.0            0              0              10   \n",
       "1377          31272       5.0            0              0               0   \n",
       "\n",
       "      Unnamed: 15  Unnamed: 16  Unnamed: 17  Unnamed: 18  \n",
       "1373          NaN          NaN          NaN          NaN  \n",
       "1374          NaN          NaN          NaN          NaN  \n",
       "1375          NaN          NaN          NaN          NaN  \n",
       "1376          NaN          NaN          NaN          NaN  \n",
       "1377          NaN          NaN          NaN          NaN  "
      ]
     },
     "execution_count": 6,
     "metadata": {},
     "output_type": "execute_result"
    }
   ],
   "source": [
    "emp.tail()"
   ]
  },
  {
   "cell_type": "code",
   "execution_count": 7,
   "id": "2cfbe2c2-95a4-4d59-921f-c1281ca6b948",
   "metadata": {},
   "outputs": [
    {
     "name": "stdout",
     "output_type": "stream",
     "text": [
      "<class 'pandas.core.frame.DataFrame'>\n",
      "RangeIndex: 1378 entries, 0 to 1377\n",
      "Data columns (total 19 columns):\n",
      " #   Column          Non-Null Count  Dtype  \n",
      "---  ------          --------------  -----  \n",
      " 0   No              1378 non-null   int64  \n",
      " 1   First Name      1378 non-null   object \n",
      " 2   Last Name       1378 non-null   object \n",
      " 3   Gender          1378 non-null   object \n",
      " 4   Start Date      1378 non-null   float64\n",
      " 5   Years           1378 non-null   int64  \n",
      " 6   Department      1378 non-null   object \n",
      " 7   Country         1378 non-null   object \n",
      " 8   Center          1378 non-null   object \n",
      " 9   Monthly Salary  1378 non-null   int64  \n",
      " 10  Annual Salary   1378 non-null   int64  \n",
      " 11  Job Rate        1378 non-null   float64\n",
      " 12  Sick Leaves     1378 non-null   int64  \n",
      " 13  Unpaid Leaves   1378 non-null   int64  \n",
      " 14  Overtime Hours  1378 non-null   int64  \n",
      " 15  Unnamed: 15     0 non-null      float64\n",
      " 16  Unnamed: 16     0 non-null      float64\n",
      " 17  Unnamed: 17     0 non-null      float64\n",
      " 18  Unnamed: 18     0 non-null      float64\n",
      "dtypes: float64(6), int64(7), object(6)\n",
      "memory usage: 204.7+ KB\n"
     ]
    }
   ],
   "source": [
    "emp.info()"
   ]
  },
  {
   "cell_type": "code",
   "execution_count": 8,
   "id": "4438d0b4-37f2-42c6-8969-6e3e863acec7",
   "metadata": {},
   "outputs": [
    {
     "data": {
      "text/plain": [
       "array([  1,   2,   3,   4,   5,   6,   7,   8,   9,  10,  11,  12,  13,\n",
       "        14,  15,  16,  17,  18,  19,  20,  21,  22,  23,  24,  25,  26,\n",
       "        27,  28,  29,  30,  31,  32,  33,  34,  35,  36,  37,  38,  39,\n",
       "        40,  41,  42,  43,  44,  45,  46,  47,  48,  49,  50,  51,  52,\n",
       "        53,  54,  55,  56,  57,  58,  59,  60,  61,  62,  63,  64,  65,\n",
       "        66,  67,  68,  69,  70,  71,  72,  73,  74,  75,  76,  77,  78,\n",
       "        79,  80,  81,  82,  83,  84,  85,  86,  87,  88,  89,  90,  91,\n",
       "        92,  93,  94,  95,  96,  97,  98,  99, 100, 101, 102, 103, 104,\n",
       "       105, 106, 107, 108, 109, 110, 111, 112, 113, 114, 115, 116, 117,\n",
       "       118, 119, 120, 121, 122, 123, 124, 125, 126, 127, 128, 129, 130,\n",
       "       131, 132, 133, 134, 135, 136, 137, 138, 139, 140, 141, 142, 143,\n",
       "       144, 145, 146, 147, 148, 149, 150, 151, 152, 153, 154, 155, 156,\n",
       "       157, 158, 159, 160, 161, 162, 163, 164, 165, 166, 167, 168, 169,\n",
       "       170, 171, 172, 173, 174, 175, 176, 177, 178, 179, 180, 181, 182,\n",
       "       183, 184, 185, 186, 187, 188, 189, 190, 191, 192, 193, 194, 195,\n",
       "       196, 197, 198, 199, 200, 201, 202, 203, 204, 205, 206, 207, 208,\n",
       "       209, 210, 211, 212, 213, 214, 215, 216, 217, 218, 219, 220, 221,\n",
       "       222, 223, 224, 225, 226, 227, 228, 229, 230, 231, 232, 233, 234,\n",
       "       235, 236, 237, 238, 239, 240, 241, 242, 243, 244, 245, 246, 247,\n",
       "       248, 249, 250, 251, 252, 253, 254, 255, 256, 257, 258, 259, 260,\n",
       "       261, 262, 263, 264, 265, 266, 267, 268, 269, 270, 271, 272, 273,\n",
       "       274, 275, 276, 277, 278, 279, 280, 281, 282, 283, 284, 285, 286,\n",
       "       287, 288, 289, 290, 291, 292, 293, 294, 295, 296, 297, 298, 299,\n",
       "       300, 301, 302, 303, 304, 305, 306, 307, 308, 309, 310, 311, 312,\n",
       "       313, 314, 315, 316, 317, 318, 319, 320, 321, 322, 323, 324, 325,\n",
       "       326, 327, 328, 329, 330, 331, 332, 333, 334, 335, 336, 337, 338,\n",
       "       339, 340, 341, 342, 343, 344, 345, 346, 347, 348, 349, 350, 351,\n",
       "       352, 353, 354, 355, 356, 357, 358, 359, 360, 361, 362, 363, 364,\n",
       "       365, 366, 367, 368, 369, 370, 371, 372, 373, 374, 375, 376, 377,\n",
       "       378, 379, 380, 381, 382, 383, 384, 385, 386, 387, 388, 389, 390,\n",
       "       391, 392, 393, 394, 395, 396, 397, 398, 399, 400, 401, 402, 403,\n",
       "       404, 405, 406, 407, 408, 409, 410, 411, 412, 413, 414, 415, 416,\n",
       "       417, 418, 419, 420, 421, 422, 423, 424, 425, 426, 427, 428, 429,\n",
       "       430, 431, 432, 433, 434, 435, 436, 437, 438, 439, 440, 441, 442,\n",
       "       443, 444, 445, 446, 447, 448, 449, 450, 451, 452, 453, 454, 455,\n",
       "       456, 457, 458, 459, 460, 461, 462, 463, 464, 465, 466, 467, 468,\n",
       "       469, 470, 471, 472, 473, 474, 475, 476, 477, 478, 479, 480, 481,\n",
       "       482, 483, 484, 485, 486, 487, 488, 489, 490, 491, 492, 493, 494,\n",
       "       495, 496, 497, 498, 499, 500, 501, 502, 503, 504, 505, 506, 507,\n",
       "       508, 509, 510, 511, 512, 513, 514, 515, 516, 517, 518, 519, 520,\n",
       "       521, 522, 523, 524, 525, 526, 527, 528, 529, 530, 531, 532, 533,\n",
       "       534, 535, 536, 537, 538, 539, 540, 541, 542, 543, 544, 545, 546,\n",
       "       547, 548, 549, 550, 551, 552, 553, 554, 555, 556, 557, 558, 559,\n",
       "       560, 561, 562, 563, 564, 565, 566, 567, 568, 569, 570, 571, 572,\n",
       "       573, 574, 575, 576, 577, 578, 579, 580, 581, 582, 583, 584, 585,\n",
       "       586, 587, 588, 589, 590, 591, 592, 593, 594, 595, 596, 597, 598,\n",
       "       599, 600, 601, 602, 603, 604, 605, 606, 607, 608, 609, 610, 611,\n",
       "       612, 613, 614, 615, 616, 617, 618, 619, 620, 621, 622, 623, 624,\n",
       "       625, 626, 627, 628, 629, 630, 631, 632, 633, 634, 635, 636, 637,\n",
       "       638, 639, 640, 641, 642, 643, 644, 645, 646, 647, 648, 649, 650,\n",
       "       651, 652, 653, 654, 655, 656, 657, 658, 659, 660, 661, 662, 663,\n",
       "       664, 665, 666, 667, 668, 669, 670, 671, 672, 673, 674, 675, 676,\n",
       "       677, 678, 679, 680, 681, 682, 683, 684, 685, 686, 687, 688, 689])"
      ]
     },
     "execution_count": 8,
     "metadata": {},
     "output_type": "execute_result"
    }
   ],
   "source": [
    "emp.No.unique()"
   ]
  },
  {
   "cell_type": "code",
   "execution_count": 9,
   "id": "836e5488-9185-4b95-82e1-9864b7284246",
   "metadata": {},
   "outputs": [
    {
     "data": {
      "text/plain": [
       "array(['Ghadir', 'Omar', 'Ailya', 'Lwiy', 'Ahmad', 'Muhamad', 'Iin',\n",
       "       'Susin', 'Razaan', 'Iilian', 'Bayan', 'Alaa', 'Sandra', 'Farahad',\n",
       "       'Ahed', 'Ayham', 'Samir', 'Bilal', 'Riad', 'Lwna', 'Jalal', 'Rana',\n",
       "       'Lina', 'Rami', 'Eala', 'Ghalib', 'Eizat', 'Rima', 'Zayn', 'Hazim',\n",
       "       'Dia', 'Abd Allatif', 'Salim', 'Rafat', 'Lobnaa', 'Sami', 'Salam',\n",
       "       'Rim', 'Ghada', 'Abd Alwahhab', 'Ayman', 'Faras', 'Shadi', 'Eubay',\n",
       "       'Abd Alhadi', 'Majdulin', 'Aylyn', 'Tala', 'Ibrahim', 'Hamdah',\n",
       "       'Muwmin', 'Layzaan', 'Sarih', 'Karam', 'Shahad', 'Salah', 'Khalid',\n",
       "       'Darar', 'Mazin', 'Rasha', 'Eamra', 'Amira', 'Abd Almalik',\n",
       "       'Rabya', 'Samah', 'Ali', 'Darin', 'Amal', 'Razan', 'Tariq', 'Fadi',\n",
       "       'Ehab', 'Ranya', 'Juri', 'Sahar', 'Mari', 'Dania', 'Rym', 'Mahir',\n",
       "       'Limays', 'Zaydun', 'Fatima', 'Ruyda', 'Anwar', 'Fayaruz', 'Jwny',\n",
       "       'Jamal', 'Suzan', 'Jihad', 'Haithim', 'Duhana', 'Eazalidin',\n",
       "       'Habib', 'Labanaa', 'Fatnh', 'Iilyas', 'Abd Alruhmin', 'Biaism',\n",
       "       'Alyida', 'Kamal', 'Amjad', 'Basmah', 'Rwbyna', 'Basimah', 'Zunar',\n",
       "       'Lana', 'Ghazal', 'Khalil', 'Abdalmjid', 'Emar', 'Lamia', 'Fyfian',\n",
       "       'Majd', 'Lilas', 'Ruaa', 'Rahaf', 'Samiah', 'Aishah', 'Dany',\n",
       "       'Isam', 'Bushraa', 'Zakarian', 'Diea', 'Bisam', 'Aryj', 'Madlin',\n",
       "       'Rybal', 'Samar', 'Saed', 'Majdy', 'Ihsan', 'Iad', 'Bara', 'Bima',\n",
       "       'Husam', 'Abdalrahmin', 'Majdulyn', 'Majid', 'Bashshar', 'Malik',\n",
       "       'Hasan', 'Husayn', 'Zahir', 'Lama', 'Jawaher', 'Emam', 'Fatin',\n",
       "       'Basil', 'Antuan', 'Rashad', 'Bidralidin', 'Khaldun', 'Salih',\n",
       "       'Fuad', 'Sayf Aldiyn', 'Ruba', 'Sharihan', 'Danah', 'Asf', 'Diana',\n",
       "       'Kawkab', 'Thamir', 'Khadijah', 'Salwaa', 'Muayid', 'Rannym',\n",
       "       'Sandurana', 'Amir', 'Daniah', 'Esamat', 'Adnan', 'Tana', 'Sana',\n",
       "       'Shilan', 'Akthum', 'Batual', 'Rinah', 'Jablah', 'Kholoud',\n",
       "       'Abd Alrazzaq', 'Lylas', 'Kinda', 'Dinana', 'Amyrah', 'Safa',\n",
       "       'Abd Allah', 'Ashraf', 'Afra', 'Ramiz', 'Imran', 'Rawan', 'Muanis',\n",
       "       'Dijwar', 'Asama', 'Rasul', 'Dalia', 'Almuetaz', 'Rabana',\n",
       "       'Samirah', 'Farial', 'Abdalhadi', 'Sali', 'Maria', 'Saeid',\n",
       "       'Abd Alsamad', 'Sarah', 'Lwy', 'Abdalhai', 'Anas', 'Maya', 'Randa',\n",
       "       'Sultan', 'Asma', 'Fulla', 'Lujin', 'Jihan', 'Qasim', 'Kamilia',\n",
       "       'Rwad', 'Jury', 'Sayban', 'Lbyb', 'Abdalrhim', 'Bashaer',\n",
       "       'Baha Aldiyn', 'Sabah', 'Asra', 'Lawiy', 'Rama', 'Qays', 'Raja',\n",
       "       'Omaimah', 'Tahani', 'Ismaeil', 'Bakr', 'Raghid', 'Ghyath',\n",
       "       'Salah Aldiyn', 'Abdalrhmin', 'Lawy', 'Tamadur', 'Abdaleziz',\n",
       "       'Alia', 'Baha', 'Akram', 'Khawla', 'Rayid', 'Jamil', 'Hanan',\n",
       "       'Rita', 'Ghaliah', 'Mujdi', 'Thayir', 'Abdallah', 'Ikhlas',\n",
       "       'Abdalbasit', 'Fawaz', 'Ranim', 'Amani', 'Amin', 'Fahd', 'Rulaa',\n",
       "       'Aynas', 'Sara', 'Jan', 'Almuthanaa', 'Emad', 'Abdalkarim', 'Asym',\n",
       "       'Oqba', 'Ramadan', 'Zaynab', 'Ayat', 'Eynas', 'Ridwan', 'Shuruq',\n",
       "       'Rafif', \"Rabye'\", 'Fatir', 'Hamzaa', 'Sulayman', 'Ghayth', 'Dima',\n",
       "       'Yasmin', 'Abdalkrim', 'Abd Almueiyn', 'Shafiq', 'Raghad', 'Hind',\n",
       "       'Ayly', 'Emara', 'Razzan', 'Ghassan', 'Iman', 'Alysia', 'Asd',\n",
       "       'Sari', 'Eubayda', 'Abd Albasit'], dtype=object)"
      ]
     },
     "execution_count": 9,
     "metadata": {},
     "output_type": "execute_result"
    }
   ],
   "source": [
    "emp[\"First Name\"].unique()"
   ]
  },
  {
   "cell_type": "code",
   "execution_count": 10,
   "id": "7281c7e6-7fb2-4c20-861b-2d563ab3aab3",
   "metadata": {},
   "outputs": [
    {
     "data": {
      "text/plain": [
       "array(['Hmshw', 'Hishan', 'Sharaf', 'Qbany', 'Bikri', 'Zueitr',\n",
       "       'Alhalaliu', 'Alaya', 'Almilat', 'Alrifaei', 'Alqadah', 'Iad',\n",
       "       'Nasif', 'Dbs', 'Qdw', 'Muhamad', 'Aljurmqaniu', 'Husayn', 'Salim',\n",
       "       'Tutwnji', 'Alsafdi', 'Jalal', 'Sahalul', 'Ahmad', 'Altarah',\n",
       "       'Abu', 'Almuluhi', 'Mius', 'Aljabaan', 'Shanan', 'Alhaj',\n",
       "       'Zakianiin', 'Eurul', 'Ghanim', 'Swyd', 'Aleass', 'AlAsfar',\n",
       "       'Aleabdyn Zaetar', 'Alshshatim', 'Alshahf', 'Almusaa', 'Mabrukh',\n",
       "       'Abumaeun', 'Hamza', 'Laylana', 'Khalifih', 'Alkhujih', 'Alealbi',\n",
       "       'Aleasimii', 'Eubayd', 'Karim', 'Salayk', 'Alttahir', 'Alzzahir',\n",
       "       'Ashbrh', 'Dahadal', 'Tuish', 'Qarh', 'Almisri', 'Alzaybq',\n",
       "       'Asamy', 'Almasri', 'Alkhalifa', 'Jawish', 'Almudhin', 'Zayd',\n",
       "       'Nabulsi', 'Eammar', 'Hutayniun', 'Ramadan', 'Alkhayrat', 'Snan',\n",
       "       'Alkhatib', 'Alshiyraziu', 'Yusif', 'Naeim', 'Alshueranii',\n",
       "       'Akrym', 'Hamzat', 'Khayr', 'Nazal', 'Kiwan', 'Almaydanii',\n",
       "       'Watar', 'Ghunum', 'Alhamal', 'AlAhmad', 'Kharasah', 'Bryghl',\n",
       "       'Aleid', 'Abuzahir', 'Aljabr', 'Ayman', 'Abu Eadlh', 'Abu Adhan',\n",
       "       'Alkhibaz', 'Salah Aldiyn', 'Zaytun', 'Almuhamad', 'Ayly',\n",
       "       'Alhuri', 'Almala', 'Alsydawi', 'Alshear', 'Alhamid', 'Alkhayr',\n",
       "       'Bashshar', 'Jhad', 'Ghrz', 'Jabir', 'Zaetar', 'Shakir',\n",
       "       'Alhamadii', 'Almaseud', 'Sabih', 'Alrashid', 'Kiali', 'Alhalib',\n",
       "       'Alsawis', 'Efan', 'Aldarawasha', 'Khalid', 'Hujah', 'Alakhris',\n",
       "       'Klizli', 'Bajubuj', 'Albaghdadi', 'Almunzilijiu', 'Qaziyha',\n",
       "       'Huaydi', 'Almahrus', 'Tyzry', 'Milatu', 'Nieamah', 'Hajl',\n",
       "       'Naghnagh', 'Qisi', 'Alhabis', 'Dahbur', 'Iibrahim', 'Sybea',\n",
       "       'Eali', 'Mia', 'Alhabash', 'Alshghry', 'Hisan', 'Alzaebii',\n",
       "       'Shalish', 'Abil', 'Warur', 'Yasin', 'Amir', 'Balatah', 'Mukiin',\n",
       "       'Shaeban', 'Ewad', 'Alaleppoy', 'Alsaedi', 'Hamdu', 'Alquatliu',\n",
       "       'Albaba', 'Rinkusi', 'Jadid', 'Drwysh', 'Rashwani', 'Alqadi',\n",
       "       'Almarstani', 'Siedih', 'Rghid', 'Hamada', 'Saeid', 'Sabagh',\n",
       "       'Alqutb', 'Murad', 'Salih', 'Alziyat', 'Nhl', 'Alsiyah', 'Rafaea',\n",
       "       'Eazu', 'Alshaykh', 'Alrrashid', 'Nuna', 'Salah', 'Mustafaa',\n",
       "       'Abu Shwmr', 'Turkmany', 'Alhakim', 'Abu Jaysh', 'Aleusud',\n",
       "       'Shakhashiru', 'Zarzur', 'Iismaeil', 'Abu Nasir', 'Earabi',\n",
       "       'Eisaa', 'Sabiq', 'Dw', 'Shaykhus', 'Mansur', 'Bulta', 'Hamshu',\n",
       "       'Alnasar', 'Red', 'Dwalyby', 'Musaa', 'Litansdurfr', 'Iidris',\n",
       "       'Ahmdghrybw', 'Shaykh', 'Eala Aldiyn', 'Suqbani', 'Albahra',\n",
       "       'Ezqul', 'Alhamuwd', 'Abu Zamil', 'Alsyqly', 'Aldamshqi',\n",
       "       'Alkmshh', 'Alssati', 'Alem', 'Aleisaa', 'Dulul', 'Badawiin',\n",
       "       'Rihan', 'Alyasin', 'Mulaliyun', 'Almahdi', 'Sakar', 'Abultif',\n",
       "       'Alshalaq', 'Zawal', 'Aleabd', 'Qarqazan', 'Abu Ghazy', 'Alabth',\n",
       "       'Abu Taqih', 'Alsyd', 'Shbyb', 'Tyru', 'Alhaju Bikr', 'Aldukifi',\n",
       "       'Antun', 'Darkzifli', 'Alsaeid', 'Alhifar', 'Kalthum', 'Saeadat',\n",
       "       'Eijrush', 'Alkinaya', 'Alrz', 'Alhariri', 'Quidr', 'Shaykh Janid',\n",
       "       'Zaza', 'Hububati', 'Alhusayn', 'Allibad', 'Dahruj', 'Almtlq',\n",
       "       'Bdraldyn', 'Eataya', 'Aljizamati', 'Alqasir', 'Aljasim', 'Salam',\n",
       "       'Abuhamd', 'Qareush', 'Jaridiun', 'Alhumwi', 'Eibdalbaqi',\n",
       "       'Almurashihi', 'Abu Fakhar', 'Alkhuriu', 'Alsaqaraq', 'Sharina',\n",
       "       'Alsulayman', 'Almaghribiu', 'Khayti', 'Jamul', 'Alrahil',\n",
       "       'Gharah', 'Saed', 'Shiah', 'Alaqre', 'Zaydan', 'Mudinih',\n",
       "       'AlAhmar', 'Eurman', 'Almawsiliu', 'Salhany', 'Shadi Alghazy',\n",
       "       'Bytar', 'Farahat', 'Albazir', 'Alnisrin', 'Sharabi', 'Hamuwd',\n",
       "       'Aleuryan', 'Eaku', 'Euthman', 'Hazruma', 'Durkzili', 'Shaqir',\n",
       "       'Alsabagh', 'Husu', 'Eilwan', 'Alhidad', 'Zaeur', 'Aleumurii',\n",
       "       'Albaytar', 'Altuean', 'Hamdan', 'Alhindi', 'Zyny', 'Biallah',\n",
       "       'Alsaman', 'Alriys', 'Jumea', 'Alhaj Ali', 'Qulumih', 'Dawara',\n",
       "       'Qahraman', 'Mshati', 'Altibae', 'Iidlibi', 'Ghazzawi',\n",
       "       'Eabd Aleal', 'Musuh', 'Alhizae', 'Alghan', 'Mitri', 'Aleliwi',\n",
       "       'Aldwltali', 'Udib', 'Yuzbik', 'Zaerur', 'Mazlum', 'Alghurani',\n",
       "       'Alhasan', 'Altahhan', 'Mahfud', 'Damrani', 'Aldubus', 'Zynu',\n",
       "       'Shams', 'Khalil', 'Shakur', 'Sarhan', 'Albush', 'Eabidin',\n",
       "       'Ebdalwahd', 'Aleazm', 'Alhmwi', 'Khiat', 'Alajw', 'Alghazi',\n",
       "       'Eijluni', 'Alhijar', 'Sadqawi', 'Alkhalid', 'Alqudmani',\n",
       "       'Alkhayran', 'Altaynawi', 'Hafiz', 'Sydu', 'Marwan', 'Alddahir',\n",
       "       'Eabuwd', 'Musur', 'Muayid', 'Fahd', 'Bilul', 'Alnuwri', 'Allaham',\n",
       "       'Raft', 'Asead', 'Alwurhani', 'Kharbutli', 'Tamur', 'Alkhlf',\n",
       "       'Eisaf', 'Bitahish', 'Eimaruh', 'Hadalah', 'Maeruf', 'Alnuwnu',\n",
       "       'Albarghali', 'Marzuq', 'Hamj', 'Bradey', 'Qadish', 'Kawaara',\n",
       "       'Abunfis', 'Alsaghir', 'Qadimati', 'Dahna', 'Eaziza', 'Nakaash',\n",
       "       'Khuluf', 'Zaki', 'Asamh Tubae', 'Daeas', 'Shadi Alkhiat',\n",
       "       'Tqi Aldiyn', 'Yasir', 'Alfywmi', 'Zarie', 'Eaqad', 'Jdwe',\n",
       "       'Saeid Alzarey', 'Eubdallah', 'Basil', 'Alnajar', 'Wayly',\n",
       "       'Alsiraj', 'Allaadhiqanii', 'Siriul', 'Einziin', 'Aljuju', 'Nadaf',\n",
       "       'Bikar', 'Ziada', 'Eashur', 'Naqawuh', 'Barghuth', 'Jazar',\n",
       "       'Mareiun', 'Eiwad', 'Alkhawam', 'Maseud', 'Abuhani', 'Alshamy',\n",
       "       'Eusqul', 'Hylmyh', 'Turkamani', 'Jameah', 'Alhulwanii', 'Dawi',\n",
       "       'Zazana', 'Iybw', 'Ghabur', 'Sultan', 'Taysir', 'Kurdiun', 'Dib',\n",
       "       'Alghush', 'Eibad', 'Zaniqa', 'Sharfah', 'Kazeur', 'Altynawi',\n",
       "       'Hamuwda', 'Zakariaa', 'Jzayrly', 'Badr', 'Hunun', 'Sariji',\n",
       "       'Albieli', 'Eyd Bndqjy', 'Lulu', 'Shhybr', 'Aljazayiriu', 'Aywbi',\n",
       "       'Dabana', 'Ghazal', 'Nafae', 'Altujjar', 'Rashid', 'Hamid',\n",
       "       'Kashik', 'Hasan', 'Dakhal', 'Karishati', 'Alsaed', 'Aleaqla',\n",
       "       'Eursaly', 'Alaishhab', 'Shannar', 'Alhiwat', 'Tabanaj', 'Aldahan',\n",
       "       'Ramzi', 'Mikayiylian', 'Alsaediu', 'Haydar', 'Shueayb', 'Qitan',\n",
       "       'Rajab', 'Asamh', 'Alyusif', 'Aleaqqad', 'Dahman', 'Alqintar',\n",
       "       'Laylanaan', 'Muhii Aldiyn', 'Eirat', 'Alghandur', 'Tamim', 'Byd',\n",
       "       'Daly', 'Almunajid', 'Ahmid', 'Aljabaei', 'Alqadri', 'Bradiei',\n",
       "       'Suirkili', 'Darakal', 'Bihtiti', 'Alshulyan', 'Barghaly',\n",
       "       'Badran', 'Shwk', 'Aldiyn', 'Hamuwdatan', 'Alshahrur', 'Khalf',\n",
       "       'Albarnawi', 'Almiqdad', 'Faris', 'Kafa', 'Almaghribi', 'Aldrwysh',\n",
       "       'Hatim', 'Nahlawi', 'Alzrqawy', 'Huquq', 'Alqatish', 'Altawil',\n",
       "       'Alsyd Ahmad', 'Aleitar', 'Alealiu', 'Sulayman', 'Suqabani',\n",
       "       'Aldubbas', 'Astitih', 'Zinu', 'Darbika', 'Aldhiyab', 'Salahi',\n",
       "       'Ayuwb', 'Shawqi', 'Aldhahabi', 'Almujahid', 'Filyun', 'Tasbihji',\n",
       "       'Shumut', 'Zaqzuq', 'Eamir', 'Ratib', 'Alhamd', 'Fadal', 'Eurnus',\n",
       "       'Eitaya', 'Qisam', 'Almalih', 'Aghasi', 'Alqalish', 'Hawria',\n",
       "       'Alshahadat', 'Aldiyk', 'Almueasaeas', 'Earmush', 'Bahriin',\n",
       "       'Nadir', 'Sharif Aldaghly', 'bwalsibae', 'Alhusayni', 'Aljamal',\n",
       "       'Kahulus', 'Nasir', 'Ghrz Aldiyn', 'Alyaghshiu', 'Shuelan',\n",
       "       'Bwfaeur', 'Hanna', 'Kayd', 'Alkalu', 'Shrbjy'], dtype=object)"
      ]
     },
     "execution_count": 10,
     "metadata": {},
     "output_type": "execute_result"
    }
   ],
   "source": [
    "emp[\"Last Name\"].unique()"
   ]
  },
  {
   "cell_type": "code",
   "execution_count": 11,
   "id": "8fdba3f2-4f74-4c58-8992-eefb451be8bf",
   "metadata": {},
   "outputs": [
    {
     "data": {
      "text/plain": [
       "array(['Male', 'Female'], dtype=object)"
      ]
     },
     "execution_count": 11,
     "metadata": {},
     "output_type": "execute_result"
    }
   ],
   "source": [
    "emp.Gender.unique()"
   ]
  },
  {
   "cell_type": "code",
   "execution_count": 12,
   "id": "1b809ece-c7a7-40de-a489-68fd4a1f0599",
   "metadata": {},
   "outputs": [
    {
     "data": {
      "text/plain": [
       "array([43194., 43972., 43006., 43326., 43901., 42402., 43959., 43141.,\n",
       "       43170., 43833., 43116., 43300., 43415., 42430., 43438., 43745.,\n",
       "       42517., 43232., 43214., 43740., 44168., 43473., 43783., 43755.,\n",
       "       44178., 44045., 43437., 43530., 43815., 43690., 43991., 43604.,\n",
       "       42858., 42907., 42767., 43731., 42396., 44164., 43268., 43722.,\n",
       "       43581., 44175., 42916., 43954., 42701., 43817., 43572., 42438.,\n",
       "       43957., 43759., 43403., 43699., 44127., 43498., 42629., 43173.,\n",
       "       43540., 43849., 43576., 43665., 43582., 43439., 42819., 42389.,\n",
       "       43280., 43715., 43794., 44010., 43802., 43284., 42691., 43339.,\n",
       "       44149., 43797., 43210., 43840., 43411., 43591., 42609., 42544.,\n",
       "       44069., 43286., 43481., 43635., 43009., 43856., 43666., 44039.,\n",
       "       43384., 43657., 43694., 44139., 42937., 43200., 43433., 43786.,\n",
       "       43793., 43867., 43397., 43979., 42507., 43487., 44085., 43362.,\n",
       "       42480., 43742., 42659., 42770., 43618., 43527., 43744., 43146.,\n",
       "       43558., 42687., 43762., 43674., 44134., 43125., 42914., 43688.,\n",
       "       42943., 43309., 44030., 43675., 43726., 42765., 43103., 42982.,\n",
       "       43265., 43870., 43963., 43249., 43546., 43698., 44165., 43571.,\n",
       "       43551., 43850., 43520., 44071., 43007., 42773., 44118., 43780.,\n",
       "       42792., 43529., 43683., 43908., 43653., 42405., 43967., 44102.,\n",
       "       42840., 43385., 43638., 43725., 42927., 43680., 43846., 42942.,\n",
       "       43787., 42994., 43148., 42892., 43939., 43175., 43458., 43897.,\n",
       "       43398., 43250., 44169., 43351., 43524., 44182., 43592., 43315.,\n",
       "       43133., 43826., 43562., 43978., 43806., 43775., 43329., 42387.,\n",
       "       44141., 43705., 43711., 43982., 43603., 43237., 42842., 43654.,\n",
       "       44138., 43262., 43508., 43376., 42957., 43792., 42899., 44163.,\n",
       "       42680., 43956., 43184., 42626., 43553., 43945., 43215., 43443.,\n",
       "       43687., 43663., 43256., 44106., 43244., 43474., 43795., 44103.,\n",
       "       43547., 43931., 43272., 43431., 42556., 43765., 43612., 44126.,\n",
       "       44181., 44167., 43275., 43137., 44162., 43869., 43865., 43936.,\n",
       "       42557., 43729., 43466., 43560., 43941., 44025., 43230., 43171.,\n",
       "       43647., 43266., 43512., 44119., 43837., 44028., 43555., 43471.,\n",
       "       43684., 43454., 43652., 43348., 43764., 43933., 43753., 43951.,\n",
       "       43199., 43307., 43800., 42684., 43822., 43096., 42473., 42973.,\n",
       "       42852., 42879., 42605., 43905., 42492., 42860., 44016., 43810.,\n",
       "       43136., 43607., 43565., 43537., 42692., 43823., 42772., 43998.,\n",
       "       43648., 42726., 44115., 43182., 43528., 43106., 42601., 43322.,\n",
       "       43993., 43707., 43574., 43483., 43248., 43623., 43058., 43378.,\n",
       "       43224., 44123., 43430., 43541., 42724., 42945., 43785., 43301.,\n",
       "       43492., 43507., 43476., 44044., 44064., 42747., 44146., 42974.,\n",
       "       43480., 42504., 42904., 44023., 43204., 43752., 43622., 43496.,\n",
       "       43784., 44192., 43803., 43183., 43886., 43413., 43777., 43750.,\n",
       "       43741., 44092., 42778., 43468., 43704., 42940., 44036., 43563.,\n",
       "       43566., 44032., 43895., 43958., 42823., 42788., 43240., 43944.,\n",
       "       44130., 43500., 42781., 43197., 43444., 44179., 44191., 43461.,\n",
       "       43290., 43195., 43579., 42998., 42574., 43506., 42934., 44008.,\n",
       "       43490., 43697., 43899., 43004., 43467., 43781., 43314., 43062.,\n",
       "       44027., 42562., 43615., 43821., 43499., 43661., 42654., 43043.,\n",
       "       44082., 44122., 43813., 43966., 43770., 42977., 43900., 43542.,\n",
       "       43279., 42787., 43269., 42835., 42996., 44144., 43497., 43260.,\n",
       "       44063., 42786., 42978., 43475., 43472., 43557., 44109., 43435.,\n",
       "       43159., 43617., 43720., 43594., 42603., 43832., 42530., 43825.,\n",
       "       43761., 43168., 43358., 44097., 44091., 43156., 43974., 43038.,\n",
       "       43838., 43493., 43482., 43600., 43642., 42381., 43693., 43289.,\n",
       "       42903., 43996., 42649., 43586., 44150., 43809., 42993., 43113.,\n",
       "       43643., 43086., 43960., 43593., 43410., 42547., 43830., 43746.,\n",
       "       44125., 43568., 43851., 43728., 43207., 42409., 43890., 42695.,\n",
       "       42537., 42583., 43676., 43013., 42878., 43525., 42722., 43940.,\n",
       "       44152., 43142., 42377., 44087., 43950., 42829., 44184., 43166.,\n",
       "       43894., 43577., 43811., 43505., 43556., 43176., 43733., 43605.,\n",
       "       42736., 44072., 43834., 44054., 43884., 43692., 43154., 43835.,\n",
       "       43225., 42854., 42884., 43758., 43453., 42393., 42737., 43010.,\n",
       "       42412., 43234., 42947., 42791., 42952., 43239., 43737., 43107.,\n",
       "       43735., 43502., 43641., 43071., 44156., 43776., 43595., 42434.,\n",
       "       43614., 44194., 42576., 43479., 43511., 43218., 43915., 43245.,\n",
       "       44055., 44011., 42795., 44177., 43681., 42785., 43852., 43126.,\n",
       "       43223., 43442., 43995., 43373., 43590., 42992., 43573., 43104.,\n",
       "       43160., 43766., 43538., 43448., 43757., 43981., 42502., 42913.,\n",
       "       43977., 43985., 44048.])"
      ]
     },
     "execution_count": 12,
     "metadata": {},
     "output_type": "execute_result"
    }
   ],
   "source": [
    "emp[\"Start Date\"].unique() "
   ]
  },
  {
   "cell_type": "code",
   "execution_count": 13,
   "id": "9345cf44-33c6-438c-9ad8-387c3e97218c",
   "metadata": {},
   "outputs": [
    {
     "data": {
      "text/plain": [
       "array([7, 5, 6, 9, 4, 8, 2, 0, 3, 1])"
      ]
     },
     "execution_count": 13,
     "metadata": {},
     "output_type": "execute_result"
    }
   ],
   "source": [
    "emp.Years.unique()"
   ]
  },
  {
   "cell_type": "code",
   "execution_count": 14,
   "id": "78a84ec3-7112-41e1-a84b-941896a546a8",
   "metadata": {},
   "outputs": [
    {
     "data": {
      "text/plain": [
       "array(['Quality Control', 'Major Mfg Projects', 'Manufacturing',\n",
       "       'Product Development', 'Sales', 'Account Management',\n",
       "       'Green Building', 'IT', 'Facilities/Engineering', 'Marketing',\n",
       "       'Manufacturing Admin', 'Training', 'Quality Assurance',\n",
       "       'Professional Training Group', 'Environmental Compliance',\n",
       "       'Creative', 'Research/Development', 'Environmental Health/Safety',\n",
       "       'Human Resources', 'Research Center'], dtype=object)"
      ]
     },
     "execution_count": 14,
     "metadata": {},
     "output_type": "execute_result"
    }
   ],
   "source": [
    "emp.Department.unique()"
   ]
  },
  {
   "cell_type": "code",
   "execution_count": 15,
   "id": "ebd6bdca-3515-43d1-9bdb-dad2b966f8d8",
   "metadata": {},
   "outputs": [
    {
     "data": {
      "text/plain": [
       "array(['West', 'Main', 'North', 'South', 'East'], dtype=object)"
      ]
     },
     "execution_count": 15,
     "metadata": {},
     "output_type": "execute_result"
    }
   ],
   "source": [
    "emp.Center.unique()"
   ]
  },
  {
   "cell_type": "code",
   "execution_count": 16,
   "id": "b9a3546c-e572-4023-a6ed-f810f00ae66f",
   "metadata": {},
   "outputs": [
    {
     "data": {
      "text/plain": [
       "array(['Egypt', 'Saudi Arabia', 'United Arab Emirates', 'Syria',\n",
       "       'Lebanon'], dtype=object)"
      ]
     },
     "execution_count": 16,
     "metadata": {},
     "output_type": "execute_result"
    }
   ],
   "source": [
    "emp.Country.unique()"
   ]
  },
  {
   "cell_type": "code",
   "execution_count": 17,
   "id": "209cff24-a2f1-4bda-90f8-f1335a062f43",
   "metadata": {},
   "outputs": [
    {
     "data": {
      "text/plain": [
       "array([1560, 3247, 2506, 1828,  970, 2332, 1959, 3394, 1479, 1186, 1485,\n",
       "       2016, 1999, 3404,  889,  930, 3149, 1295, 2162, 2180, 1475, 1290,\n",
       "       1764, 2682, 3044,  890, 2207, 2136, 1161,  830, 2977, 3151, 1551,\n",
       "       2099,  808,  984, 1011, 2026, 2801, 3208, 2129, 3344, 2836, 1960,\n",
       "       1478, 1981, 2064, 1045, 2022, 2383, 1563,  919,  988, 2631, 2368,\n",
       "       2679, 2423, 2115, 2969, 2467, 3244, 2132,  994, 2304, 1207,  802,\n",
       "       2065, 2882, 2042, 2017, 3215, 2957,  891, 1971, 2317, 1657, 3053,\n",
       "       1887, 1457, 2581,  901,  898, 2878, 2539, 2533,  885, 1166, 1752,\n",
       "       3157, 3211, 1062, 1406, 3084, 1815, 1861, 3088, 3071, 3298,  828,\n",
       "       2404, 3410, 1817, 2923, 3138, 3139, 3263, 1258, 2527, 3017, 1639,\n",
       "       1867, 2314, 3166, 2429, 1865,  868, 3411, 3324, 2715, 2664, 1801,\n",
       "       1452, 2358,  784, 1423, 2174, 2182, 2437,  926, 1506, 3159, 1117,\n",
       "       2379, 2372, 2908, 2019,  877, 1043, 3258,  976, 3096, 1985, 2371,\n",
       "       2562, 1254,  793, 2416,  822, 1442,  887, 1671, 1877, 2422, 1299,\n",
       "       2127,  951, 2940, 3293, 3250, 2085, 1578, 1169, 1054, 1349, 2196,\n",
       "       3264, 1232, 2401, 3168, 1620, 1482, 1967, 1696, 2913, 2068, 1430,\n",
       "       2051, 2986, 2790, 1075, 2009, 3254, 2367, 3158, 1980, 2049, 2727,\n",
       "        974,  992, 2730, 2804, 1467,  997, 1859, 1231,  719, 2186, 1605,\n",
       "       2365, 1096, 1037, 1757, 3405, 2154,  805, 3093, 1039, 1012, 2216,\n",
       "       2020, 3309,  983,  741, 1171, 2512, 1608, 1677, 3414, 1358,  703,\n",
       "       1806, 2421, 1461, 1287, 2756,  812, 2651, 2331, 1952, 2976, 2080,\n",
       "       1668, 2234, 2096, 1429, 2884, 2947, 1795, 1982, 2543, 2787, 1095,\n",
       "       1837, 3109, 2832, 1223,  833, 2074, 2811, 1436, 1041, 2231, 1036,\n",
       "       2143,  967, 2510, 3364, 3420, 2229, 1910, 1917,  831, 2636, 2929,\n",
       "       1255, 2210, 1788, 2488, 2187, 1366, 2612, 2246, 2761, 1536, 3412,\n",
       "       2546, 1856, 3220, 3061, 2221, 1799, 2082, 1490,  985, 1988, 1545,\n",
       "       2637, 1385, 2468, 2098, 2302, 1623, 1333, 1431, 1600, 2752, 3125,\n",
       "       2091, 1009, 3443, 1582, 2103, 3108, 1810, 2312, 2783, 3428, 3450,\n",
       "       1226, 3219, 2060, 2479, 2106, 1480, 2119, 1577, 3160, 2692, 1448,\n",
       "       1568, 1823, 1712,  744, 2972, 2931, 2544, 1595, 1326, 3117, 3446,\n",
       "       2023,  979, 1676, 3079, 2164,  834,  723, 2807, 1002, 2265, 3283,\n",
       "       2675, 3056, 1579, 3418, 3368, 3275, 3043, 1122,  764, 2879, 2252,\n",
       "       2149, 2428, 3240, 2409, 3030, 2872, 2263, 1940, 1558, 1341, 1703,\n",
       "       3282, 2232, 2513, 2818, 2257, 1265, 2806, 1521, 2425, 1758, 1371,\n",
       "       2904, 3285, 2964, 2607, 1550, 1631, 3003,  913, 2076, 2749, 2617,\n",
       "       1680, 2824, 1646, 1274, 1158, 1986, 3299, 2405, 2205, 1693, 1690,\n",
       "        766, 2542, 1966, 1404, 1848, 2069, 1072, 1984,  999, 2915,  711,\n",
       "        899, 2571, 2453, 1839, 2306, 3140, 1176, 2742,  734,  894, 2640,\n",
       "       1059, 3337, 3154, 1618, 1248, 1523, 1275, 1549, 1786, 1908, 2321,\n",
       "       1168, 2169, 2819,  847, 2308, 1692, 1372, 2594, 1082, 1929, 1883,\n",
       "        874, 2780, 2611, 1881, 1517, 1459, 1420, 1382, 1920, 1202, 1447,\n",
       "       1598, 1714, 2994, 2125, 3059, 2077, 1962, 1573,  882, 1951, 2255,\n",
       "       3388,  707, 1165, 1351, 1699, 3007,  879, 2537, 2663, 2494, 2585,\n",
       "       1776, 3055, 1707, 2719, 1715, 2181, 3350, 1710, 2785, 1112, 1928,\n",
       "       3300, 2378, 1056, 3295, 1022,  969, 3354, 2123,  897, 2925, 1895,\n",
       "       2191, 3130, 2654,  859, 1113, 1234, 2647, 2200, 2381, 2329, 3110,\n",
       "       2777, 1213, 2680, 2204, 1297, 3024, 2228, 2573, 1938, 1208, 2342,\n",
       "       2613, 2519, 3019, 3048, 2197, 1870, 1058, 1257,  819, 3068, 1814,\n",
       "       1076, 3120, 1359, 3391, 1892, 2639, 1580, 1574, 2013, 2075, 1111,\n",
       "       1554, 3057, 1733, 1511, 2604, 3152, 2655, 1405, 3100, 2729, 1612,\n",
       "       2901,  705, 3311, 2516, 2000, 2860,  943, 1018, 1835, 2192, 2875,\n",
       "       1332, 2094, 3006, 2717, 3135, 2334, 1661, 1230, 1483, 2462, 2489,\n",
       "       2279,  840, 1601, 1414,  905, 2525, 1412, 2397, 1153, 1444, 2360,\n",
       "       2576, 2376, 2924, 2548,  841, 1077, 3316, 2188, 1684,  716, 2703,\n",
       "       2361, 1797, 2486, 1197, 3389, 2760, 3257, 3026, 1898, 2778, 2880,\n",
       "       2815, 1134, 3334, 2574, 1123, 2147, 3237, 2606])"
      ]
     },
     "execution_count": 17,
     "metadata": {},
     "output_type": "execute_result"
    }
   ],
   "source": [
    "emp[\"Monthly Salary\"].unique()"
   ]
  },
  {
   "cell_type": "code",
   "execution_count": 18,
   "id": "63b6e0aa-4839-4107-adaf-cff7721816ec",
   "metadata": {},
   "outputs": [
    {
     "data": {
      "text/plain": [
       "array([18720, 38964, 30072, 21936, 11640, 27984, 23508, 40728, 17748,\n",
       "       14232, 17820, 24192, 23988, 40848, 10668, 11160, 37788, 15540,\n",
       "       25944, 26160, 17700, 15480, 21168, 32184, 36528, 10680, 26484,\n",
       "       25632, 13932,  9960, 35724, 37812, 18612, 25188,  9696, 11808,\n",
       "       12132, 24312, 33612, 38496, 25548, 40128, 34032, 23520, 17736,\n",
       "       23772, 24768, 12540, 24264, 28596, 18756, 11028, 11856, 31572,\n",
       "       28416, 32148, 29076, 25380, 35628, 29604, 38928, 25584, 11928,\n",
       "       27648, 14484,  9624, 24780, 34584, 24504, 24204, 38580, 35484,\n",
       "       10692, 23652, 27804, 19884, 36636, 22644, 17484, 30972, 10812,\n",
       "       10776, 34536, 30468, 30396, 10620, 13992, 21024, 37884, 38532,\n",
       "       12744, 16872, 37008, 21780, 22332, 37056, 36852, 39576,  9936,\n",
       "       28848, 40920, 21804, 35076, 37656, 37668, 39156, 15096, 30324,\n",
       "       36204, 19668, 22404, 27768, 37992, 29148, 22380, 10416, 40932,\n",
       "       39888, 32580, 31968, 21612, 17424, 28296,  9408, 17076, 26088,\n",
       "       26184, 29244, 11112, 18072, 37908, 13404, 28548, 28464, 34896,\n",
       "       24228, 10524, 12516, 39096, 11712, 37152, 23820, 28452, 30744,\n",
       "       15048,  9516, 28992,  9864, 17304, 10644, 20052, 22524, 29064,\n",
       "       15588, 25524, 11412, 35280, 39516, 39000, 25020, 18936, 14028,\n",
       "       12648, 16188, 26352, 39168, 14784, 28812, 38016, 19440, 17784,\n",
       "       23604, 20352, 34956, 24816, 17160, 24612, 35832, 33480, 12900,\n",
       "       24108, 39048, 28404, 37896, 23760, 24588, 32724, 11688, 11904,\n",
       "       32760, 33648, 17604, 11964, 22308, 14772,  8628, 26232, 19260,\n",
       "       28380, 13152, 12444, 21084, 40860, 25848,  9660, 37116, 12468,\n",
       "       12144, 26592, 24240, 39708, 11796,  8892, 14052, 30144, 19296,\n",
       "       20124, 40968, 16296,  8436, 21672, 29052, 17532, 15444, 33072,\n",
       "        9744, 31812, 27972, 23424, 35712, 24960, 20016, 26808, 25152,\n",
       "       17148, 34608, 35364, 21540, 23784, 30516, 33444, 13140, 22044,\n",
       "       37308, 33984, 14676,  9996, 24888, 33732, 17232, 12492, 26772,\n",
       "       12432, 25716, 11604, 30120, 40368, 41040, 26748, 22920, 23004,\n",
       "        9972, 31632, 35148, 15060, 26520, 21456, 29856, 26244, 16392,\n",
       "       31344, 26952, 33132, 18432, 40944, 30552, 22272, 38640, 36732,\n",
       "       26652, 21588, 24984, 17880, 11820, 23856, 18540, 31644, 16620,\n",
       "       29616, 25176, 27624, 19476, 15996, 17172, 19200, 33024, 37500,\n",
       "       25092, 12108, 41316, 18984, 25236, 37296, 21720, 27744, 33396,\n",
       "       41136, 41400, 14712, 38628, 24720, 29748, 25272, 17760, 25428,\n",
       "       18924, 37920, 32304, 17376, 18816, 21876, 20544,  8928, 35664,\n",
       "       35172, 30528, 19140, 15912, 37404, 41352, 24276, 11748, 20112,\n",
       "       36948, 25968, 10008,  8676, 33684, 12024, 27180, 39396, 32100,\n",
       "       36672, 18948, 41016, 40416, 39300, 36516, 13464,  9168, 34548,\n",
       "       27024, 25788, 29136, 38880, 28908, 36360, 34464, 27156, 23280,\n",
       "       18696, 16092, 20436, 39384, 26784, 30156, 33816, 27084, 15180,\n",
       "       33672, 18252, 29100, 21096, 16452, 34848, 39420, 35568, 31284,\n",
       "       18600, 19572, 36036, 10956, 24912, 32988, 31404, 20160, 33888,\n",
       "       19752, 15288, 13896, 23832, 39588, 28860, 26460, 20316, 20280,\n",
       "        9192, 30504, 23592, 16848, 22176, 24828, 12864, 23808, 11988,\n",
       "       34980,  8532, 10788, 30852, 29436, 22068, 27672, 37680, 14112,\n",
       "       32904,  8808, 10728, 31680, 12708, 40044, 37848, 19416, 14976,\n",
       "       18276, 15300, 18588, 21432, 22896, 27852, 14016, 26028, 33828,\n",
       "       10164, 27696, 20304, 16464, 31128, 12984, 23148, 22596, 10488,\n",
       "       33360, 31332, 22572, 18204, 17508, 17040, 16584, 23040, 14424,\n",
       "       17364, 19176, 20568, 35928, 25500, 36708, 24924, 23544, 18876,\n",
       "       10584, 23412, 27060, 40656,  8484, 13980, 16212, 20388, 36084,\n",
       "       10548, 30444, 31956, 29928, 31020, 21312, 36660, 20484, 32628,\n",
       "       20580, 26172, 40200, 20520, 33420, 13344, 23136, 39600, 28536,\n",
       "       12672, 39540, 12264, 11628, 40248, 25476, 10764, 35100, 22740,\n",
       "       26292, 37560, 31848, 10308, 13356, 14808, 31764, 26400, 28572,\n",
       "       27948, 37320, 33324, 14556, 32160, 26448, 15564, 36288, 26736,\n",
       "       30876, 23256, 14496, 28104, 31356, 30228, 36228, 36576, 26364,\n",
       "       22440, 12696, 15084,  9828, 36816, 21768, 12912, 37440, 16308,\n",
       "       40692, 22704, 31668, 18960, 18888, 24156, 24900, 13332, 18648,\n",
       "       36684, 20796, 18132, 31248, 37824, 31860, 16860, 37200, 32748,\n",
       "       19344, 34812,  8460, 39732, 30192, 24000, 34320, 11316, 12216,\n",
       "       22020, 26304, 34500, 15984, 25128, 36072, 32604, 37620, 28008,\n",
       "       19932, 14760, 17796, 29544, 29868, 27348, 10080, 19212, 16968,\n",
       "       10860, 30300, 16944, 28764, 13836, 17328, 28320, 30912, 28512,\n",
       "       35088, 30576, 10092, 12924, 39792, 26256, 20208,  8592, 32436,\n",
       "       28332, 21564, 29832, 14364, 40668, 33120, 39084, 36312, 22776,\n",
       "       33336, 34560, 33780, 13608, 40008, 30888, 13476, 25764, 38844,\n",
       "       31272])"
      ]
     },
     "execution_count": 18,
     "metadata": {},
     "output_type": "execute_result"
    }
   ],
   "source": [
    "emp[\"Annual Salary\"].unique()"
   ]
  },
  {
   "cell_type": "code",
   "execution_count": 19,
   "id": "512bbf87-6bf2-4921-9358-bf206f42872a",
   "metadata": {},
   "outputs": [
    {
     "data": {
      "text/plain": [
       "array([3. , 1. , 2. , 5. , 4.5])"
      ]
     },
     "execution_count": 19,
     "metadata": {},
     "output_type": "execute_result"
    }
   ],
   "source": [
    "emp[\"Job Rate\"].unique()"
   ]
  },
  {
   "cell_type": "code",
   "execution_count": 20,
   "id": "95e51b59-1554-45a6-b1cc-46ed8e77b30d",
   "metadata": {},
   "outputs": [
    {
     "data": {
      "text/plain": [
       "array([1, 0, 3, 6, 5, 2, 4])"
      ]
     },
     "execution_count": 20,
     "metadata": {},
     "output_type": "execute_result"
    }
   ],
   "source": [
    "emp[\"Sick Leaves\"].unique()"
   ]
  },
  {
   "cell_type": "code",
   "execution_count": 21,
   "id": "00438e86-5829-4e2d-892b-2341fd679ae6",
   "metadata": {},
   "outputs": [
    {
     "data": {
      "text/plain": [
       "array([0, 5, 3, 1, 6, 4, 2])"
      ]
     },
     "execution_count": 21,
     "metadata": {},
     "output_type": "execute_result"
    }
   ],
   "source": [
    "emp[\"Unpaid Leaves\"].unique()"
   ]
  },
  {
   "cell_type": "code",
   "execution_count": 22,
   "id": "37c1bbd1-1365-494f-aff3-dce124b02178",
   "metadata": {},
   "outputs": [
    {
     "data": {
      "text/plain": [
       "array([183, 198, 192,   7, 121,   8, 116, 105, 153,  12,  70,  85,  77,\n",
       "        93,  10,  98, 109, 111,  32,  94,  13,   9,  97,  71, 100,  48,\n",
       "       148,   5,  37,   3,   0,  26,  14,   1,  11,   2,  50,   4,  64,\n",
       "         6,  76,  46,  99,  16,  82,  74,  15,  23,  54,  18,  68,  73,\n",
       "        87,  34,  86,  45,  84,  80,  17,  31,  35,  61,  38,  27,  51,\n",
       "        43,  92,  95,  40,  81,  78,  28,  57,  20])"
      ]
     },
     "execution_count": 22,
     "metadata": {},
     "output_type": "execute_result"
    }
   ],
   "source": [
    "emp[\"Overtime Hours\"].unique()"
   ]
  },
  {
   "cell_type": "code",
   "execution_count": 23,
   "id": "68c421fa-101b-4d72-a1af-2d034ed0b083",
   "metadata": {},
   "outputs": [
    {
     "data": {
      "text/plain": [
       "Gender\n",
       "Male      898\n",
       "Female    480\n",
       "Name: count, dtype: int64"
      ]
     },
     "execution_count": 23,
     "metadata": {},
     "output_type": "execute_result"
    }
   ],
   "source": [
    "emp.Gender.value_counts()"
   ]
  },
  {
   "cell_type": "code",
   "execution_count": 24,
   "id": "b456257d-f6e7-4769-a1ce-86caa971f27d",
   "metadata": {},
   "outputs": [
    {
     "data": {
      "text/plain": [
       "<Axes: xlabel='Gender'>"
      ]
     },
     "execution_count": 24,
     "metadata": {},
     "output_type": "execute_result"
    },
    {
     "data": {
      "image/png": "[encoded data removed]",
      "text/plain": [
       "<Figure size 640x480 with 1 Axes>"
      ]
     },
     "metadata": {},
     "output_type": "display_data"
    }
   ],
   "source": [
    "emp.Gender.value_counts().plot(kind = \"bar\")"
   ]
  },
  {
   "cell_type": "code",
   "execution_count": 25,
   "id": "116d1e3e-0c6e-4214-91e6-bb08d2edc0d1",
   "metadata": {},
   "outputs": [
    {
     "data": {
      "text/plain": [
       "3450"
      ]
     },
     "execution_count": 25,
     "metadata": {},
     "output_type": "execute_result"
    }
   ],
   "source": [
    "emp[\"Monthly Salary\"].max()"
   ]
  },
  {
   "cell_type": "code",
   "execution_count": 26,
   "id": "1531e2d4-4e5c-493e-8dd7-ecc8c9a8233a",
   "metadata": {},
   "outputs": [
    {
     "data": {
      "text/plain": [
       "41400"
      ]
     },
     "execution_count": 26,
     "metadata": {},
     "output_type": "execute_result"
    }
   ],
   "source": [
    "emp[\"Annual Salary\"].max()"
   ]
  },
  {
   "cell_type": "code",
   "execution_count": 27,
   "id": "a4840801-a459-4b2f-af02-f21426a4914c",
   "metadata": {},
   "outputs": [
    {
     "data": {
      "text/plain": [
       "703"
      ]
     },
     "execution_count": 27,
     "metadata": {},
     "output_type": "execute_result"
    }
   ],
   "source": [
    "emp[\"Monthly Salary\"].min()"
   ]
  },
  {
   "cell_type": "code",
   "execution_count": 28,
   "id": "3f6a2f11-096c-4996-8520-12ab5f8e3464",
   "metadata": {},
   "outputs": [
    {
     "data": {
      "text/plain": [
       "8436"
      ]
     },
     "execution_count": 28,
     "metadata": {},
     "output_type": "execute_result"
    }
   ],
   "source": [
    "emp[\"Annual Salary\"].min()"
   ]
  },
  {
   "cell_type": "code",
   "execution_count": 29,
   "id": "4209b4c7-8471-4d54-9d29-9e1a59f796dc",
   "metadata": {},
   "outputs": [
    {
     "data": {
      "text/plain": [
       "np.float64(2068.201741654572)"
      ]
     },
     "execution_count": 29,
     "metadata": {},
     "output_type": "execute_result"
    }
   ],
   "source": [
    "emp[\"Monthly Salary\"].mean()"
   ]
  },
  {
   "cell_type": "code",
   "execution_count": 30,
   "id": "c8012ee3-2186-4e98-9365-d238c74d6d5b",
   "metadata": {},
   "outputs": [
    {
     "data": {
      "text/plain": [
       "np.float64(24818.420899854864)"
      ]
     },
     "execution_count": 30,
     "metadata": {},
     "output_type": "execute_result"
    }
   ],
   "source": [
    "emp[\"Annual Salary\"].mean()"
   ]
  },
  {
   "cell_type": "code",
   "execution_count": 31,
   "id": "2fef9b0f-3702-424a-bbfc-718cb639494c",
   "metadata": {},
   "outputs": [
    {
     "data": {
      "text/plain": [
       "2077.0"
      ]
     },
     "execution_count": 31,
     "metadata": {},
     "output_type": "execute_result"
    }
   ],
   "source": [
    "emp[\"Monthly Salary\"].median()"
   ]
  },
  {
   "cell_type": "code",
   "execution_count": 32,
   "id": "2491d4ff-c55e-4ffa-b815-7caccfb2b6d6",
   "metadata": {},
   "outputs": [
    {
     "data": {
      "text/plain": [
       "24924.0"
      ]
     },
     "execution_count": 32,
     "metadata": {},
     "output_type": "execute_result"
    }
   ],
   "source": [
    "emp[\"Annual Salary\"].median()"
   ]
  },
  {
   "cell_type": "code",
   "execution_count": 33,
   "id": "27ba8595-d0ee-4a8b-92a2-3d8733f56efc",
   "metadata": {},
   "outputs": [
    {
     "data": {
      "text/plain": [
       "Monthly Salary\n",
       "3138    6\n",
       "2180    6\n",
       "2009    6\n",
       "2631    4\n",
       "2832    4\n",
       "Name: count, dtype: int64"
      ]
     },
     "execution_count": 33,
     "metadata": {},
     "output_type": "execute_result"
    }
   ],
   "source": [
    "emp[\"Monthly Salary\"].value_counts().head()"
   ]
  },
  {
   "cell_type": "code",
   "execution_count": 34,
   "id": "eb6498e7-6c8f-4003-afde-ee86b3ad07bd",
   "metadata": {},
   "outputs": [
    {
     "data": {
      "text/plain": [
       "Monthly Salary\n",
       "2574    2\n",
       "1123    2\n",
       "2147    2\n",
       "3237    2\n",
       "1828    2\n",
       "Name: count, dtype: int64"
      ]
     },
     "execution_count": 34,
     "metadata": {},
     "output_type": "execute_result"
    }
   ],
   "source": [
    "emp[\"Monthly Salary\"].value_counts().tail()"
   ]
  },
  {
   "cell_type": "code",
   "execution_count": 35,
   "id": "f488fe56-d699-4f36-b306-76c8079c39de",
   "metadata": {},
   "outputs": [
    {
     "data": {
      "text/plain": [
       "count    1378.000000\n",
       "mean     2068.201742\n",
       "std       763.012033\n",
       "min       703.000000\n",
       "25%      1436.000000\n",
       "50%      2077.000000\n",
       "75%      2682.000000\n",
       "max      3450.000000\n",
       "Name: Monthly Salary, dtype: float64"
      ]
     },
     "execution_count": 35,
     "metadata": {},
     "output_type": "execute_result"
    }
   ],
   "source": [
    "emp[\"Monthly Salary\"].describe()"
   ]
  },
  {
   "cell_type": "code",
   "execution_count": null,
   "id": "9189e9db-097b-464c-8fab-8e0bf1da9021",
   "metadata": {},
   "outputs": [],
   "source": []
  },
  {
   "cell_type": "code",
   "execution_count": null,
   "id": "4c4a3f61-ebb1-495f-b3ea-a95ad2be785d",
   "metadata": {},
   "outputs": [],
   "source": []
  },
  {
   "cell_type": "code",
   "execution_count": null,
   "id": "8f5e3146-bc47-4b1b-9d02-d039c354791b",
   "metadata": {},
   "outputs": [],
   "source": []
  },
  {
   "cell_type": "code",
   "execution_count": null,
   "id": "0b36afb7-8ba9-4404-adc3-5e1dde191e5f",
   "metadata": {},
   "outputs": [],
   "source": []
  },
  {
   "cell_type": "code",
   "execution_count": null,
   "id": "5aa75b33-cd6a-4910-a155-e8e62e6a6123",
   "metadata": {},
   "outputs": [],
   "source": []
  },
  {
   "cell_type": "code",
   "execution_count": null,
   "id": "e29618cb-a58f-4d5e-b383-35f5a4aa9697",
   "metadata": {},
   "outputs": [],
   "source": []
  },
  {
   "cell_type": "code",
   "execution_count": null,
   "id": "64499a52-115f-4fd4-a162-93448473fb4c",
   "metadata": {},
   "outputs": [],
   "source": []
  },
  {
   "cell_type": "code",
   "execution_count": null,
   "id": "81465fe2-28f1-4f05-a1ca-4363250e0adc",
   "metadata": {},
   "outputs": [],
   "source": []
  },
  {
   "cell_type": "code",
   "execution_count": null,
   "id": "941ac748-cf43-40fe-8ad0-48f851fad5e5",
   "metadata": {},
   "outputs": [],
   "source": []
  },
  {
   "cell_type": "code",
   "execution_count": null,
   "id": "0322fa3e-b887-43c0-bcbf-2bb6b436ae68",
   "metadata": {},
   "outputs": [],
   "source": []
  },
  {
   "cell_type": "code",
   "execution_count": null,
   "id": "a40a5340-e415-4b61-a910-e8bf75c2a593",
   "metadata": {},
   "outputs": [],
   "source": []
  },
  {
   "cell_type": "code",
   "execution_count": null,
   "id": "151fdb43-e763-4c2d-86d4-f802a34bc9b4",
   "metadata": {},
   "outputs": [],
   "source": []
  },
  {
   "cell_type": "code",
   "execution_count": null,
   "id": "99b69ad9-caf9-4b64-9bdc-c2dd52a45104",
   "metadata": {},
   "outputs": [],
   "source": []
  },
  {
   "cell_type": "code",
   "execution_count": null,
   "id": "78d00891-f55f-4729-9282-ba25475d1976",
   "metadata": {},
   "outputs": [],
   "source": []
  },
  {
   "cell_type": "code",
   "execution_count": null,
   "id": "ecc6cc5a-b47d-481c-b9a5-682a0c8e1327",
   "metadata": {},
   "outputs": [],
   "source": []
  },
  {
   "cell_type": "code",
   "execution_count": null,
   "id": "1f0dcc1c-acdf-4afc-9688-ad8ab9d09ac0",
   "metadata": {},
   "outputs": [],
   "source": []
  },
  {
   "cell_type": "code",
   "execution_count": null,
   "id": "162672ab-c669-46ce-baa2-1b74bb953154",
   "metadata": {},
   "outputs": [],
   "source": []
  },
  {
   "cell_type": "code",
   "execution_count": null,
   "id": "350d7ef6-d62d-48c0-9de4-6647e77cc829",
   "metadata": {},
   "outputs": [],
   "source": []
  },
  {
   "cell_type": "code",
   "execution_count": null,
   "id": "9832bcdb-e714-4a9d-b110-8c4cc58c3e3e",
   "metadata": {},
   "outputs": [],
   "source": []
  },
  {
   "cell_type": "code",
   "execution_count": null,
   "id": "101e8773-ea76-4c65-9f0a-957cec0bfbfd",
   "metadata": {},
   "outputs": [],
   "source": []
  },
  {
   "cell_type": "code",
   "execution_count": null,
   "id": "00a3fa24-d3dc-49fe-9b1f-5f548969d1ac",
   "metadata": {},
   "outputs": [],
   "source": []
  },
  {
   "cell_type": "code",
   "execution_count": null,
   "id": "55944c2a-e914-4bf2-9372-29344e6f998b",
   "metadata": {},
   "outputs": [],
   "source": []
  },
  {
   "cell_type": "code",
   "execution_count": null,
   "id": "1a6dbd74-5640-4f9a-9956-0643de34d858",
   "metadata": {},
   "outputs": [],
   "source": []
  }
 ],
 "metadata": {
  "kernelspec": {
   "display_name": "Python 3 (ipykernel)",
   "language": "python",
   "name": "python3"
  },
  "language_info": {
   "codemirror_mode": {
    "name": "ipython",
    "version": 3
   },
   "file_extension": ".py",
   "mimetype": "text/x-python",
   "name": "python",
   "nbconvert_exporter": "python",
   "pygments_lexer": "ipython3",
   "version": "3.13.5"
  }
 },
 "nbformat": 4,
 "nbformat_minor": 5
}
